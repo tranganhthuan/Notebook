{
 "cells": [
  {
   "cell_type": "markdown",
   "metadata": {},
   "source": [
    "## I. Trung bình, trung vị, yếu vị."
   ]
  },
  {
   "cell_type": "markdown",
   "metadata": {},
   "source": [
    "### 1.Trung bình (Mean):\n",
    "__Định nghĩa:__\n",
    "\n",
    "Là tổng giá trị của các phần tử chia cho tổng số phần tử.\n",
    "\n",
    "__Cách tính:__\n",
    "\n",
    "Tính theo công thức:\n",
    "$$\\mu = \\frac{\\sum{\\mathbf{X}}}{N} $$\n",
    "\n",
    "__Ghi chú:__\n",
    "\n",
    "Trong trường hợp dữ liệu có trọng số khác nhau, trung bình có trọng số (weighted mean) được tính theo công thức:\n",
    "$$\\mu = \\sum_i^N{w*\\mathbf{x}} $$\n",
    "\n",
    "__Code:__"
   ]
  },
  {
   "cell_type": "markdown",
   "metadata": {},
   "source": [
    "### 2. Trung vị (Median):\n",
    "__Định nghĩa:__\n",
    "\n",
    "Là điểm chính giữa của dữ liệu.\n",
    "\n",
    "__Cách tính:__\n",
    "\n",
    "Sắp xếp dữ liệu theo thứ tự từ nhỏ đến lớn. Nếu tổng số phần tử lẻ, trung vị là phần tử nằm chính giữ dữ liệu. Nếu tổng số phần tử chẵn, trung vị là trung bình cộng của 2 phần tử chính giữa."
   ]
  },
  {
   "cell_type": "markdown",
   "metadata": {},
   "source": [
    "### 3. Yếu vị (Mode):\n",
    "__Định nghĩa:__\n",
    "\n",
    "Là điểm xuất hiện nhiều nhất trong dữ liệu.\n",
    "\n",
    "__Cách tính:__\n",
    "\n",
    "Sắp xếp dữ liệu theo thứ tự. Đếm số phần tử trong từng đoạn giống nhau. Tìm ra phần tử có số đếm cao nhất."
   ]
  },
  {
   "cell_type": "markdown",
   "metadata": {},
   "source": [
    "##"
   ]
  },
  {
   "cell_type": "code",
   "execution_count": null,
   "metadata": {},
   "outputs": [],
   "source": []
  }
 ],
 "metadata": {
  "kernelspec": {
   "display_name": "Python 3",
   "language": "python",
   "name": "python3"
  },
  "language_info": {
   "codemirror_mode": {
    "name": "ipython",
    "version": 3
   },
   "file_extension": ".py",
   "mimetype": "text/x-python",
   "name": "python",
   "nbconvert_exporter": "python",
   "pygments_lexer": "ipython3",
   "version": "3.7.3"
  }
 },
 "nbformat": 4,
 "nbformat_minor": 2
}
