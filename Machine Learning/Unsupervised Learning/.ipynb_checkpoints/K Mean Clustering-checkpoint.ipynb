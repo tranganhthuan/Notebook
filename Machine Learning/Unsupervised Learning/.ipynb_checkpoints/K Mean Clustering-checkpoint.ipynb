{
 "cells": [
  {
   "cell_type": "markdown",
   "metadata": {},
   "source": [
    "# I. Algorithm"
   ]
  },
  {
   "cell_type": "markdown",
   "metadata": {},
   "source": [
    "## 1. Math\n",
    "\n",
    "### One-hot encoding: \n",
    "With each $\\mathbf{x}_i$, whose label is $\\mathbf{y}_i = [y_{i1}, y_{i2}, \\dots, y_{iK}]$, if $\\mathbf{x}_i$ is in cluster $\\mathbf{k}$, then $y_{ik} = 1$ and $y_{ij} = 0, \\forall j \\neq k$ :\n",
    "$$y_{ik} \\in \\{0, 1\\},~~~ \\sum_{k = 1}^K y_{ik} = 1$$\n",
    "For example:\n",
    "- $\\mathbf{x}_i\\in\\text{cluster }0  \\implies \\mathbf{y}_i = [1,0,0,\\dots,0]$\n",
    "- $\\mathbf{x}_i\\in\\text{cluster }1  \\implies \\mathbf{y}_i = [0,1,0,\\dots,0]$\n",
    "\n",
    "### Cost function:\n",
    "$$\\mathcal{L}(\\mathbf{Y}, \\mathbf{M}) = \\sum_{i=1}^N\\sum_{j=1}^K y_{ij} \\|\\mathbf{x}_i \\mathbf{m}_j\\|_2^2$$\n",
    "Explain:\n",
    "- $\\|\\mathbf{x}_i - \\mathbf{m}_k\\|_2^2$ is the Euclidean distance between two points.\n",
    "- $y_{ik}\\|\\mathbf{x}_i - \\mathbf{m}_k\\|_2^2 =  \\sum_{j=1}^K y_{ij}\\|\\mathbf{x}_i - \\mathbf{m}_j\\|_2^2$ is the distance between point and its cluster.\n",
    "\n",
    "### Optimize cost function:\n",
    "$$\\mathbf{Y}, \\mathbf{M} = \\arg\\min_{\\mathbf{Y}, \\mathbf{M}} \\sum_{i=1}^N\\sum_{j=1}^K y_{ij} \\|\\mathbf{x}_i - \\mathbf{m}_j\\|_2^2$$\n",
    "$$\\text{subject to:} ~~ y_{ij} \\in \\{0, 1\\}~~ \\forall i, j;~~~ \\sum_{j = 1}^K y_{ij} = 1~~\\forall i$$\n",
    "\n",
    "Note:\n",
    "- $\\mathbf{M} = [\\mathbf{m}_1, \\mathbf{m}_2, \\dots \\mathbf{m}_K]$ : a matrix combining all the centroid of each cluster.\n",
    "\n",
    "__Fix $\\mathbf{M}$, find $\\mathbf{Y}$:__\n",
    "\n",
    "_Supposed that the centroids is already defined, we need to find labels for points - find labels of each point so that the distance between points and their clusters are shortest._\n",
    "\n",
    "$$\\mathbf{y}_i = \\arg\\min_{\\mathbf{y}_i} \\sum_{j=1}^K y_{ij}\\|\\mathbf{x}_i - \\mathbf{m}_j\\|_2^2$$\n",
    "$$\\text{subject to:} ~~ y_{ij} \\in \\{0, 1\\}~~ \\forall j;~~~ \\sum_{j = 1}^K y_{ij} = 1$$\n",
    "The purposes is actually finding which cluster the point belongs to so the formular can be rewritten as:\n",
    "$$j = \\arg\\min_{j} \\|\\mathbf{x}_i - \\mathbf{m}_j\\|_2^2$$\n",
    "$\\|\\mathbf{x}_i - \\mathbf{m}_j\\|_2^2$ is the square of the distance between a point and it centroids and this is shortest when the centroid of the point is its nearest centroid. \n",
    "\n",
    "__Fix $\\mathbf{Y}$, find $\\mathbf{M}$:__\n",
    "\n",
    "_Supposed that the cluster of each point is already defined, we need to find new centroids for the clusters - find new centroid of each cluster so that the distance between points and their clusters are shortest._ \n",
    "\n",
    "__- Derivative:__\n",
    "$$\\mathbf{m}_j = \\arg\\min_{\\mathbf{m}_j} \\sum_{i = 1}^{N} y_{ij}\\|\\mathbf{x}_i - \\mathbf{m}_j \\|_2^2$$\n",
    "$$\\frac{\\partial l(\\mathbf{m}_j)}{\\partial \\mathbf{m}_j} = (\\sum_{i = 1}^{N} y_{ij}\\|\\mathbf{x}_i - \\mathbf{m}_j \\|_2^2)'$$\n",
    "$$= \\sum_{i = 1}^{N} y_{ij}(\\|\\mathbf{x}_i - \\mathbf{m}_j \\|_2^2)'$$\n",
    "$$= \\sum_{i = 1}^{N}y_{ij}(- \\mathbf{m}_j)'2(\\mathbf{x}_i - \\mathbf{m}_j)$$\n",
    "$$= 2\\sum_{i = 1}^{N}y_{ij}(-1)(\\mathbf{x}_i - \\mathbf{m}_j)$$\n",
    "$$= 2\\sum_{i=1}^N y_{ij}(\\mathbf{m}_j - \\mathbf{x}_i)$$\n",
    "Note:\n",
    "- $(\\|\\mathbf{x}_i\\|_2^2)' = 2\\mathbf{x}$ \n",
    "\n",
    "__- Centroid:__\n",
    "$$2\\sum_{i=1}^N y_{ij}(\\mathbf{m}_j - \\mathbf{x}_i) = 0$$\n",
    "$$\\mathbf{m}_j \\sum_{i=1}^N y_{ij} = \\sum_{i=1}^N y_{ij} \\mathbf{x}_i$$\n",
    "$$\\Rightarrow \\mathbf{m}_j = \\frac{ \\sum_{i=1}^N y_{ij} \\mathbf{x}_i}{\\sum_{i=1}^N y_{ij}}$$\n",
    "Note:\n",
    "- $\\mathbf{m}_j$ is the mean of cluster $j$\n"
   ]
  },
  {
   "cell_type": "markdown",
   "metadata": {},
   "source": [
    "## 2. Code:\n",
    "- Step 1: Initialize/update centroids.\n",
    "- Step 2: Assign points to their nearest centroid. If no data move groups, stop the loop. Otherwise, return step 1."
   ]
  },
  {
   "cell_type": "code",
   "execution_count": 45,
   "metadata": {},
   "outputs": [],
   "source": [
    "import numpy as np\n",
    "# Initialize centroids\n",
    "def initialize_centroids(X, k):\n",
    "    return X[np.random.choice(X.shape[0], k, replace=False)]\n",
    "# Assign labels\n",
    "def assign_labels(X, centroids):\n",
    "    # Calculate distance     \n",
    "    distance = np.sum(X*X, 1).reshape(1, -1) + np.sum(centroids*centroids, 1).reshape(-1, 1) - 2*centroids.dot(X.T)\n",
    "    return np.argmin(distance.T, axis=1)\n",
    "# Update centroids\n",
    "def update_centroids(X, labels, K):\n",
    "    centroids = np.zeros((K, X.shape[1]))\n",
    "    for k in range(K):\n",
    "        # Collect all points assigned to the k-th cluster \n",
    "        Xk = X[labels == k, :]\n",
    "        # Take average\n",
    "        centroids[k,:] = np.mean(Xk, axis = 0)\n",
    "    return centroids\n",
    "# Check converge\n",
    "def has_converged(old, new):\n",
    "    # Covert numpy array to set and compare two sets   \n",
    "    return set([tuple(a) for a in old]) == set([tuple(a) for a in new])\n",
    "# Loop through the steps\n",
    "def predict(X_train, K):     \n",
    "    centroids = initialize_centroids(X_train, K)\n",
    "    i = 0\n",
    "    while True:\n",
    "        y_train = assign_labels(X_train, centroids)\n",
    "        new_centroids = update_centroids(X_train, y_train, K)\n",
    "        if has_converged(centroids, new_centroids):\n",
    "            break\n",
    "        centroids = new_centroids\n",
    "    return X_train, y_train, centroids"
   ]
  },
  {
   "cell_type": "markdown",
   "metadata": {},
   "source": [
    "# II. Pratice"
   ]
  },
  {
   "cell_type": "code",
   "execution_count": 46,
   "metadata": {},
   "outputs": [],
   "source": [
    "means = [[2, 2], [8, 3], [3, 6]]\n",
    "cov = [[1, 0], [0, 1]]\n",
    "N = 500\n",
    "X0 = np.random.multivariate_normal(means[0], cov, N)\n",
    "X1 = np.random.multivariate_normal(means[1], cov, N)\n",
    "X2 = np.random.multivariate_normal(means[2], cov, N)\n",
    "\n",
    "X = np.concatenate((X0, X1, X2), axis = 0)\n",
    "K = 3\n",
    "\n",
    "original_label = np.asarray([0]*N + [1]*N + [2]*N).T"
   ]
  },
  {
   "cell_type": "code",
   "execution_count": 47,
   "metadata": {},
   "outputs": [],
   "source": [
    "X_train, y_train, centroids = predict(X, K)"
   ]
  },
  {
   "cell_type": "markdown",
   "metadata": {},
   "source": [
    "# III. Reference"
   ]
  },
  {
   "cell_type": "markdown",
   "metadata": {},
   "source": [
    "Machine Learning cơ bản - K-means Clustering [https://machinelearningcoban.com/2017/01/01/kmeans/]"
   ]
  }
 ],
 "metadata": {
  "kernelspec": {
   "display_name": "Python 3",
   "language": "python",
   "name": "python3"
  },
  "language_info": {
   "codemirror_mode": {
    "name": "ipython",
    "version": 3
   },
   "file_extension": ".py",
   "mimetype": "text/x-python",
   "name": "python",
   "nbconvert_exporter": "python",
   "pygments_lexer": "ipython3",
   "version": "3.7.3"
  }
 },
 "nbformat": 4,
 "nbformat_minor": 2
}
