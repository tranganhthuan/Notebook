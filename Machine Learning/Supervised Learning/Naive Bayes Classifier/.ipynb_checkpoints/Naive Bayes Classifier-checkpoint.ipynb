{
 "cells": [
  {
   "cell_type": "markdown",
   "metadata": {},
   "source": [
    "## 1. Algorithm\n",
    "### Naive Bayes Classifier\n",
    "$$\\begin{eqnarray}\n",
    "    c & = & \\arg\\max_c p(c | \\mathbf{x}) & (1) \\\\\n",
    "      & = & \\arg\\max_c \\frac{p(\\mathbf{x} | c) p(c)}{p(\\mathbf{x})} ~~~& (2)\\\\\n",
    "      & = & \\arg\\max_c p(\\mathbf{x} | c) p(c) & (3)\\\\\n",
    "\\end{eqnarray}$$\n",
    "Explain:\n",
    "- (1): We choose the class with have highest probability.\n",
    "- (2): Using Bayes' theorem.\n",
    "- (3): Simplify the formular by removing $p(\\mathbf{x})$ because it is not related to $c$\n",
    "\n",
    "### Multinomial Naive Bayes\n",
    "$$\\lambda_{ci} = p(x_i | c) = \\frac{N_{ci}}{N_c}$$\n",
    "Note:\n",
    "- To avoid numerator equal to 0, we use Laplace smoothing.\n",
    "- Laplace smoothing: $\\hat{\\lambda}_{ci} = \\frac{N_{ci} + \\alpha}{N_{c} + d\\alpha}$\n",
    "    - $\\alpha$ is an integer (ussually equal to 1).\n",
    "    - $d$ is the number of unique words. \n",
    "\n",
    "### Bernoulli Naive Bayes\n",
    "$$p(x_i | c) = p(i | c)^{x_i} (1 - p(i | c)) ^{1 - x_i}$$"
   ]
  },
  {
   "cell_type": "markdown",
   "metadata": {},
   "source": [
    "## 2.Code\n",
    "Multinomial Naive Bayes:\n",
    "- Step 1: Calculate the probabilities of each class in y_train $p(c)$.\n",
    "- Step 2: Calculate the probabilities of each element in each class $p(x_i | c)$.\n",
    "- Step 3: Use Naive Bayes formula to predict labels of new dataset."
   ]
  },
  {
   "cell_type": "code",
   "execution_count": 99,
   "metadata": {},
   "outputs": [],
   "source": [
    "import numpy as np\n",
    "\n",
    "\n",
    "class NaiveBayesClassifier(object):\n",
    "    def __init__(self):\n",
    "        self.X_train = np.array([])\n",
    "        self.y_train = np.array([])\n",
    "        self.X_predict = np.array([])\n",
    "        self.y_predict = np.array([])\n",
    "        self.classes = np.array([])\n",
    "        self.count = np.array([])\n",
    "        self.lambda_array = np.array([])\n",
    "        self.probability = np.array([])\n",
    "\n",
    "    def fit(self, X_train, y_train):\n",
    "        self.X_train = X_train\n",
    "        self.y_train = y_train\n",
    "\n",
    "    def separate_classes(self):\n",
    "        self.classes, self.count = np.unique(self.y_train, return_counts=True)\n",
    "        num_classes = self.classes.shape[0]\n",
    "        d = self.X_train.shape[1]\n",
    "        self.lambda_array = np.zeros((num_classes, d))\n",
    "        for i in range(num_classes):\n",
    "            table = self.X_train[np.where(self.y_train == self.classes[i])]\n",
    "            total = np.sum(table, axis=0)\n",
    "            self.lambda_array[i] = (total+1)/(total.sum()+d)\n",
    "    def test(self):\n",
    "            self.X_train[self.X_train >= 1] = 1\n",
    "            self.classes, self.count = np.unique(self.y_train, return_counts=True)\n",
    "            num_classes = self.classes.shape[0]\n",
    "            d = self.X_train.shape[1]\n",
    "            appear = np.zeros(self.X_train.shape)\n",
    "            appear[self.X_train >= 1] = 1\n",
    "            self.lambda_array = np.zeros((num_classes, d))\n",
    "            for i in range(num_classes):\n",
    "                table = self.X_train[np.where(self.y_train == self.classes[i])]\n",
    "                total = np.sum(table, axis=0)\n",
    "                self.lambda_array[i] = (total+1)/(table.shape[0]+2)\n",
    "            \n",
    "    def predict_test(self, X_predict):\n",
    "        self.X_predict = X_predict\n",
    "        self.X_predict[self.X_predict >= 1] = 1\n",
    "        self.test()\n",
    "        num_classes = self.classes.shape[0]\n",
    "        N = self.X_predict.shape[0]\n",
    "        d = self.X_predict.shape[1]\n",
    "        self.probability = np.zeros((N, num_classes))\n",
    "        for i in range(N):\n",
    "            for j in range(num_classes):\n",
    "                power = self.lambda_array[j]*self.X_predict[i]+(1-self.lambda_array[j])*(1-self.X_predict[i])\n",
    "                self.probability[i][j] = np.prod(power)\n",
    "        self.probability = np.multiply(self.probability, (self.count/self.count.sum(axis=0)))\n",
    "        self.probability = np.divide(self.probability, self.probability.sum(axis=1).reshape(-1, 1))\n",
    "        return self.probability\n",
    "    def predict(self, X_predict):\n",
    "        self.X_predict = X_predict\n",
    "        self.separate_classes()\n",
    "        num_classes = self.classes.shape[0]\n",
    "        N = self.X_predict.shape[0]\n",
    "        d = self.X_predict.shape[1]\n",
    "        self.probability = np.zeros((N, num_classes))\n",
    "        for i in range(N):\n",
    "            for j in range(num_classes):\n",
    "                power = np.power(self.lambda_array[j],self.X_predict[i])\n",
    "                self.probability[i][j] = np.prod(power)\n",
    "        self.probability = np.multiply(self.probability, (self.count/self.count.sum(axis=0)))\n",
    "        self.probability = np.divide(self.probability, self.probability.sum(axis=1).reshape(-1, 1))\n",
    "        self.y_predict = self.classes[np.argmax(self.probability, axis=1)]\n",
    "        return self.y_predict"
   ]
  },
  {
   "cell_type": "code",
   "execution_count": 100,
   "metadata": {},
   "outputs": [],
   "source": [
    "# Create data\n",
    "d1 = [2, 1, 1, 0, 0, 0, 0, 0, 0]\n",
    "d2 = [1, 1, 0, 1, 1, 0, 0, 0, 0]\n",
    "d3 = [0, 1, 0, 0, 1, 1, 0, 0, 0]\n",
    "d4 = [0, 1, 0, 0, 0, 0, 1, 1, 1]\n",
    "\n",
    "train_data = np.array([d1, d2, d3, d4])\n",
    "label = np.array(['B', 'B', 'B', 'N']) "
   ]
  },
  {
   "cell_type": "code",
   "execution_count": 101,
   "metadata": {},
   "outputs": [],
   "source": [
    "model = NaiveBayesClassifier()\n",
    "model.fit(train_data,label)"
   ]
  },
  {
   "cell_type": "code",
   "execution_count": 102,
   "metadata": {},
   "outputs": [],
   "source": [
    "# test data\n",
    "d5 = np.array([[2, 0, 0, 1, 0, 0, 0, 1, 0]])\n",
    "d6 = np.array([[0, 1, 0, 0, 0, 0, 0, 1, 1]])"
   ]
  },
  {
   "cell_type": "code",
   "execution_count": 103,
   "metadata": {},
   "outputs": [
    {
     "data": {
      "text/plain": [
       "array(['N'], dtype='<U1')"
      ]
     },
     "execution_count": 103,
     "metadata": {},
     "output_type": "execute_result"
    }
   ],
   "source": [
    "model.predict(d6)"
   ]
  },
  {
   "cell_type": "code",
   "execution_count": 104,
   "metadata": {},
   "outputs": [
    {
     "data": {
      "text/plain": [
       "array([[0.29175335, 0.70824665]])"
      ]
     },
     "execution_count": 104,
     "metadata": {},
     "output_type": "execute_result"
    }
   ],
   "source": [
    "model.probability"
   ]
  },
  {
   "cell_type": "code",
   "execution_count": 105,
   "metadata": {},
   "outputs": [
    {
     "data": {
      "text/plain": [
       "array([[2, 1, 1, 0, 0, 0, 0, 0, 0],\n",
       "       [1, 1, 0, 1, 1, 0, 0, 0, 0],\n",
       "       [0, 1, 0, 0, 1, 1, 0, 0, 0],\n",
       "       [0, 1, 0, 0, 0, 0, 1, 1, 1]])"
      ]
     },
     "execution_count": 105,
     "metadata": {},
     "output_type": "execute_result"
    }
   ],
   "source": [
    "model.X_train"
   ]
  },
  {
   "cell_type": "code",
   "execution_count": null,
   "metadata": {},
   "outputs": [],
   "source": []
  }
 ],
 "metadata": {
  "kernelspec": {
   "display_name": "Python 3",
   "language": "python",
   "name": "python3"
  },
  "language_info": {
   "codemirror_mode": {
    "name": "ipython",
    "version": 3
   },
   "file_extension": ".py",
   "mimetype": "text/x-python",
   "name": "python",
   "nbconvert_exporter": "python",
   "pygments_lexer": "ipython3",
   "version": "3.7.3"
  }
 },
 "nbformat": 4,
 "nbformat_minor": 2
}
