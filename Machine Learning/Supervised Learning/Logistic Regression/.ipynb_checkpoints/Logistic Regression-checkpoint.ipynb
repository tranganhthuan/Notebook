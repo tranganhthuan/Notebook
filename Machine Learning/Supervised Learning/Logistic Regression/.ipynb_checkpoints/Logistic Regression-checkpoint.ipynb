{
 "cells": [
  {
   "cell_type": "markdown",
   "metadata": {},
   "source": [
    "# I. Algorithm"
   ]
  },
  {
   "cell_type": "markdown",
   "metadata": {},
   "source": [
    "## 1. Mathematics\n",
    "### Logistic Regression:\n",
    "Logistic Regression in matrix form.\n",
    "$$\\hat{y} = f(\\mathbf{x}) = \\theta(\\mathbf{w}^T\\mathbf{x})$$\n",
    "Note: \n",
    "- $\\theta$ is logistic function (activation function).\n",
    "\n",
    "### Activation functions and its derivative:\n",
    "__Sigmoid function:__\n",
    "- Formula:\n",
    "$$\\sigma(z) = \\frac{1}{1 + e^{-z}}~~~(1)$$\n",
    "- Derivative:\n",
    "$$\\sigma'(z) = \\left(\\frac{1}{1 + e^{-z}}\\right)'$$\n",
    "$$= \\frac{e^{-z}}{(1 + e^{-z})^2}$$ \n",
    "$$= \\frac{1}{(1 + e^{-z})} \\frac{e^{-z}}{(1 + e^{-z})}$$\n",
    "$$= \\frac{1}{(1 + e^{-z})} \\left(\\frac{1+e^{-z}}{(1 + e^{-z})}- \\frac{1}{1+e^{-z}}\\right)$$\n",
    "$$= \\sigma(z) (1-\\sigma(z))$$\n",
    "\n",
    "__Tanh function:__\n",
    "- Formula:\n",
    "$$\\tanh(z) = \\frac{e^z - e^{-z}}{e^z + e^{-z}}~~~(2)$$\n",
    "- Derivative:\n",
    "$$\\tanh'(z) = \\left(\\frac{e^z - e^{-z}}{e^z + e^{-z}}\\right)'$$\n",
    "$$= \\frac{(e^z - e^{-z})'(e^z + e^{-z}) - (e^z - e^{-z})(e^z + e^{-z})'}{(e^z + e^{-z})^2}$$ \n",
    "$$= \\frac{(e^z + e^{-z})(e^z + e^{-z}) - (e^z - e^{-z})(e^z - e^{-z})}{(e^z + e^{-z})^2}$$\n",
    "$$= \\left(\\frac{e^z + e^{-z}}{e^z + e^{-z}}\\right)^2 - \\left(\\frac{e^z - e^{-z}}{e^z + e^{-z}}\\right)^2$$\n",
    "$$= 1 - \\tanh(z)^2$$\n",
    "\n",
    "\n",
    "###  Loss function:\n",
    "The loss function is entropy formula.\n",
    "$$J(\\mathbf{w}) = -\\log P(\\mathbf{y}|\\mathbf{X}; \\mathbf{w})$$\n",
    "$$= -\\sum_{i=1}^N(y_i \\log {z}_i + (1-y_i) \\log (1 - {z}_i))$$\n",
    "\n",
    "### Optimize:\n",
    "$$\\begin{eqnarray}\n",
    "\\frac{\\partial J(\\mathbf{w}; \\mathbf{x}_i, y_i)}{\\partial \\mathbf{w}} &=& -(\\frac{y_i}{z_i} - \\frac{1- y_i}{1 - z_i} ) \\frac{\\partial z_i}{\\partial \\mathbf{w}} \\\\\n",
    "&=& \\frac{z_i - y_i}{z_i(1 - z_i)} \\frac{\\partial z_i}{\\partial \\mathbf{w}}\\\\\n",
    "&=& \\frac{z_i - y_i}{z_i(1 - z_i)} \\frac{\\partial z_i}{\\partial s} \\mathbf{x}\\\\\n",
    "\\end{eqnarray}$$\n",
    "Note:\n",
    "- $\\frac{\\partial z_i}{\\partial \\mathbf{w}} = \\frac{\\partial z_i}{\\partial s} \\frac{\\partial s}{\\partial \\mathbf{w}} = \\frac{\\partial z_i}{\\partial s} \\mathbf{x}$\n",
    "- $\\frac{\\partial z_i}{\\partial s} = f(a)'$  is the derivative calculated above with $a = \\mathbf{w}^T\\mathbf{x}$.\n",
    "    - sigmoid function: $\\frac{\\partial J(\\mathbf{w}; \\mathbf{x}_i, y_i)}{\\partial \\mathbf{w}} = (z_i - y_i)\\mathbf{x}_i~~~(4)$\n",
    "    - tanh function: $\\frac{\\partial J(\\mathbf{w}; \\mathbf{x}_i, y_i)}{\\partial \\mathbf{w}} = \\frac{(z_i - y_i)(1 + z_i)\\mathbf{x}_i}{z_i}~~~(5)$"
   ]
  },
  {
   "cell_type": "markdown",
   "metadata": {},
   "source": [
    "## 2.Code\n",
    "- Step 1 Use the formular $(1)(2)(3)$ to create function which calculate activation functions.\n",
    "- Step 2: Use the formular $(4)(5)(6)$ to calculate $\\mathbf{w}$.\n",
    "- Step 3: Use the formular $(1)(2)(3)$ to calculate $\\hat{y}$ based on $\\mathbf{X}$ and $\\mathbf{w}$."
   ]
  },
  {
   "cell_type": "code",
   "execution_count": 84,
   "metadata": {},
   "outputs": [],
   "source": [
    "import numpy as np\n",
    "\n",
    "class LogisticRegression(object):\n",
    "    def __init__(self, iteration = 1000, eta = 0.05, activation = \"sigmoid\"):\n",
    "        self.X_train = np.array([])\n",
    "        self.y_train = np.array([])\n",
    "        self.X_predict = np.array([])\n",
    "        self.y_predict = np.array([])\n",
    "        self.theta = np.array([])\n",
    "        self.iteration = iteration\n",
    "        self.eta = eta\n",
    "        self.activation = activation\n",
    "\n",
    "    def fit(self, X_train, y_train):\n",
    "        self.X_train = X_train\n",
    "        self.y_train = y_train\n",
    "        \n",
    "    # Step 1: Calculate activation functions\n",
    "    def sigmoid(self, X):\n",
    "        return 1/(1 + np.exp(-X))\n",
    "    def tanh(self, X):\n",
    "        return np.tanh(X) \n",
    "    \n",
    "    # Step 2: Calculate theta      \n",
    "    def calculate_theta(self, eta=0.05):\n",
    "        X_bar = np.concatenate((np.ones((self.X_train.shape[0], 1)), self.X_train), axis=1)\n",
    "        N, d = X_bar.shape[0], X_bar.shape[1]\n",
    "        self.theta = np.zeros(d)\n",
    "        for iter in range(self.iteration):\n",
    "            Z = self.sigmoid(X_bar.dot(self.theta))\n",
    "            derivative = X_bar.T.dot((Z - self.y_train))\n",
    "            self.theta -= eta*derivative\n",
    "    # Step 3: Calculate y_hat\n",
    "    def predict(self, X_predict):\n",
    "        self.calculate_theta()\n",
    "        self.X_predict = X_predict\n",
    "        X_bar_predict = np.concatenate((np.ones((self.X_predict.shape[0], 1)), self.X_predict), axis=1)\n",
    "        if self.activation == \"sigmoid\":\n",
    "            self.y_predict = self.sigmoid(X_bar_predict.dot(self.theta))\n",
    "        elif self.activation == \"tanh\":\n",
    "            self.y_predict = (self.tanh(X_bar_predict.dot(self.theta)) + 1)/2\n",
    "        self.y_predict[self.y_predict < 0.5] = 0\n",
    "        self.y_predict[self.y_predict >= 0.5] = 1\n",
    "        return self.y_predict.astype(np.int32)"
   ]
  },
  {
   "cell_type": "markdown",
   "metadata": {},
   "source": [
    "# II. Practice"
   ]
  },
  {
   "cell_type": "markdown",
   "metadata": {},
   "source": [
    "Predict whether student pass or not based on the number of time they spend on studying."
   ]
  },
  {
   "cell_type": "code",
   "execution_count": 93,
   "metadata": {},
   "outputs": [
    {
     "data": {
      "image/png": "[encoded data removed]",
      "text/plain": [
       "<Figure size 432x288 with 1 Axes>"
      ]
     },
     "metadata": {
      "needs_background": "light"
     },
     "output_type": "display_data"
    }
   ],
   "source": [
    "# Create data\n",
    "X_train = np.array([0.50, 0.75, 1.00, 1.25, 1.50, 1.75, 1.75, 2.00, 2.25, 2.50, 2.75, 3.00, 3.25, 3.50, 4.00, 4.25, 4.50, 4.75, 5.00, 5.50]).reshape(-1,1)\n",
    "y_train = np.array([0, 0, 0, 0, 0, 0, 1, 0, 1, 0, 1, 0, 1, 0, 1, 1, 1, 1, 1, 1])\n",
    "# Plot data\n",
    "import matplotlib.pyplot as plt\n",
    "X0 = X_train[np.where(y_train == 0),0][0]\n",
    "y0 = y_train[np.where(y_train == 0)]\n",
    "X1 = X_train[np.where(y_train == 1),0][0]\n",
    "y1 = y_train[np.where(y_train == 1)]\n",
    "plt.plot(X0, y0, 'ro', markersize = 8)\n",
    "plt.plot(X1, y1, 'bs', markersize = 8)\n",
    "plt.xlabel('Studying hours')\n",
    "plt.ylabel('Predicted probability of pass')\n",
    "plt.show()"
   ]
  },
  {
   "cell_type": "code",
   "execution_count": 94,
   "metadata": {},
   "outputs": [
    {
     "name": "stdout",
     "output_type": "stream",
     "text": [
      "[0 0 1 1]\n"
     ]
    },
    {
     "data": {
      "image/png": "[encoded data removed]",
      "text/plain": [
       "<Figure size 432x288 with 1 Axes>"
      ]
     },
     "metadata": {
      "needs_background": "light"
     },
     "output_type": "display_data"
    }
   ],
   "source": [
    "# Create model\n",
    "model = LogisticRegression(activation = \"sigmoid\")\n",
    "model.fit(X_train, y_train)\n",
    "# Predict\n",
    "X_test = np.array([0.50, 1.75, 4.25, 5.50]).reshape(-1,1)\n",
    "print(model.predict(X_test))\n",
    "# Plot model\n",
    "X0 = X_train[np.where(y_train == 0),0][0]\n",
    "y0 = y_train[np.where(y_train == 0)]\n",
    "X1 = X_train[np.where(y_train == 1),0][0]\n",
    "y1 = y_train[np.where(y_train == 1)]\n",
    "\n",
    "plt.plot(X0, y0, 'ro', markersize = 8)\n",
    "plt.plot(X1, y1, 'bs', markersize = 8)\n",
    "xx = np.linspace(0, 6, 1000)\n",
    "w0 = model.theta[0]\n",
    "w1 = model.theta[1]\n",
    "yy = model.sigmoid(w0 + w1*xx)\n",
    "# yy = (model.tanh(w0 + w1*xx)+1)/2\n",
    "plt.axis([-2, 8, -1, 2])\n",
    "plt.plot(xx, yy, 'g-', linewidth = 2)\n",
    "plt.xlabel('Studying hours')\n",
    "plt.ylabel('Predicted probability of pass')\n",
    "plt.show()"
   ]
  },
  {
   "cell_type": "code",
   "execution_count": 95,
   "metadata": {},
   "outputs": [
    {
     "name": "stdout",
     "output_type": "stream",
     "text": [
      "[0 0 1 1]\n"
     ]
    },
    {
     "data": {
      "image/png": "[encoded data removed]",
      "text/plain": [
       "<Figure size 432x288 with 1 Axes>"
      ]
     },
     "metadata": {
      "needs_background": "light"
     },
     "output_type": "display_data"
    }
   ],
   "source": [
    "# Create model\n",
    "model = LogisticRegression(activation = \"tanh\")\n",
    "model.fit(X_train, y_train)\n",
    "# Predict\n",
    "X_test = np.array([0.50, 1.75, 4.25, 5.50]).reshape(-1,1)\n",
    "print(model.predict(X_test))\n",
    "# Plot model\n",
    "X0 = X_train[np.where(y_train == 0),0][0]\n",
    "y0 = y_train[np.where(y_train == 0)]\n",
    "X1 = X_train[np.where(y_train == 1),0][0]\n",
    "y1 = y_train[np.where(y_train == 1)]\n",
    "\n",
    "plt.plot(X0, y0, 'ro', markersize = 8)\n",
    "plt.plot(X1, y1, 'bs', markersize = 8)\n",
    "xx = np.linspace(0, 6, 1000)\n",
    "w0 = model.theta[0]\n",
    "w1 = model.theta[1]\n",
    "yy = (model.tanh(w0 + w1*xx)+1)/2\n",
    "plt.axis([-2, 8, -1, 2])\n",
    "plt.plot(xx, yy, 'g-', linewidth = 2)\n",
    "plt.xlabel('Studying hours')\n",
    "plt.ylabel('Predicted probability of pass')\n",
    "plt.show()"
   ]
  },
  {
   "cell_type": "markdown",
   "metadata": {},
   "source": [
    "# III. References"
   ]
  },
  {
   "cell_type": "markdown",
   "metadata": {},
   "source": [
    "Machine Learning cơ bản - Bài 10: Logistic Regression[https://machinelearningcoban.com/2017/01/27/logisticregression/]"
   ]
  }
 ],
 "metadata": {
  "kernelspec": {
   "display_name": "Python 3",
   "language": "python",
   "name": "python3"
  },
  "language_info": {
   "codemirror_mode": {
    "name": "ipython",
    "version": 3
   },
   "file_extension": ".py",
   "mimetype": "text/x-python",
   "name": "python",
   "nbconvert_exporter": "python",
   "pygments_lexer": "ipython3",
   "version": "3.7.3"
  }
 },
 "nbformat": 4,
 "nbformat_minor": 2
}
