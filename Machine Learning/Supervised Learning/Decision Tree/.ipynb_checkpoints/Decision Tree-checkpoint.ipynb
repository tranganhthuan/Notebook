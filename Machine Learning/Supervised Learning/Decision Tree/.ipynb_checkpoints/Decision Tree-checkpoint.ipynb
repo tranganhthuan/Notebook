{
 "cells": [
  {
   "cell_type": "markdown",
   "metadata": {},
   "source": [
    "# I. Algorithm "
   ]
  },
  {
   "cell_type": "markdown",
   "metadata": {},
   "source": [
    "## 1. Mathematics\n",
    "### Gini impurity: \n",
    "$$I_G(P) = 1 - \\sum_{i=1}^J p_i^2$$\n",
    "\n",
    "### Information gain:\n",
    "$$IG(\\text{Question}) = I_G(\\text{Node}) - P(\\text{True}).I_G(\\text{True}) - P(\\text{False}).I_G(\\text{False})$$"
   ]
  },
  {
   "cell_type": "markdown",
   "metadata": {},
   "source": [
    "## 2. Code\n",
    "- Step 1: Create a function to calculate the gini index of each node.\n",
    "- Step 2: Create a function to calculate the information gain of each question.\n",
    "- Step 3: Run a for loop through each value to find a best question - a question have highest information gain.\n",
    "- Step 4: Use a recursive algorithm to build a tree.\n",
    "    - Base case: The node can not be asked more questions return Leaf Node.\n",
    "    - Recusive case: If there is still questions to ask, ask question and then check the child nodes - this node is considered as Decision Node. "
   ]
  },
  {
   "cell_type": "code",
   "execution_count": 175,
   "metadata": {},
   "outputs": [
    {
     "data": {
      "text/plain": [
       "0.3600000000000001"
      ]
     },
     "execution_count": 175,
     "metadata": {},
     "output_type": "execute_result"
    }
   ],
   "source": [
    "import pandas as pd\n",
    "training_data = [\n",
    "    ['Green', 3, 'Apple'],\n",
    "    ['Yellow', 3, 'Apple'],\n",
    "    ['Red', 1, 'Grape'],\n",
    "    ['Red', 1, 'Grape'],\n",
    "    ['Yellow', 3, 'Lemon'],\n",
    "]\n",
    "header = [\"color\", \"diameter\", \"label\"]\n",
    "data = pd.DataFrame(data = training_data, columns = header)\n",
    "((data[\"color\"].value_counts()/data[\"color\"].value_counts().sum())**2).sum()"
   ]
  },
  {
   "cell_type": "code",
   "execution_count": 176,
   "metadata": {},
   "outputs": [],
   "source": [
    "def gini(label):\n",
    "    return 1 - ((label.value_counts()/label.value_counts().sum())**2).sum()"
   ]
  },
  {
   "cell_type": "code",
   "execution_count": 177,
   "metadata": {},
   "outputs": [],
   "source": [
    "def info_gain(true_label, false_label, current_uncertainty):\n",
    "    p = float(len(true_label)) / (len(true_label) + len(false_label))\n",
    "    return current_uncertainty - p * gini(true_label) - (1 - p) * gini(false_label)"
   ]
  },
  {
   "cell_type": "code",
   "execution_count": 178,
   "metadata": {},
   "outputs": [],
   "source": [
    "def question(data, column, condition):\n",
    "    if isinstance(condition, str):\n",
    "        true = data[data[column] == condition]\n",
    "        false = data[data[column] != condition]\n",
    "    else:\n",
    "        true = data[data[column] >= condition]\n",
    "        false = data[data[column] < condition]\n",
    "    return true,false"
   ]
  },
  {
   "cell_type": "code",
   "execution_count": 179,
   "metadata": {},
   "outputs": [],
   "source": [
    "def find_best_split(data):\n",
    "    best_gain = 0  \n",
    "    best_column = None \n",
    "    best_condition = None\n",
    "    current_uncertainty = gini(data[\"label\"])\n",
    "    for column in data.columns[:-1]:\n",
    "        for value in data[column].unique():\n",
    "            true, false = question(data, column, value)\n",
    "            if len(true) == 0 or len(false) == 0:\n",
    "                continue\n",
    "            gain = info_gain(true[\"label\"], false[\"label\"], current_uncertainty)\n",
    "            if gain >= best_gain:\n",
    "                best_gain, best_column, best_condition= gain, column, value\n",
    "    return best_gain, best_column, best_condition"
   ]
  },
  {
   "cell_type": "code",
   "execution_count": 186,
   "metadata": {},
   "outputs": [],
   "source": [
    "def match(row,column,condition):\n",
    "    if isinstance(condition, str):\n",
    "        return row[column] == condition\n",
    "    else:\n",
    "        return row[column] >= condition"
   ]
  },
  {
   "cell_type": "code",
   "execution_count": 180,
   "metadata": {},
   "outputs": [],
   "source": [
    "def build_tree(data):\n",
    "    gain, column, condition = find_best_split(data)\n",
    "    if gain == 0:\n",
    "        return (data[\"label\"].value_counts()/data[\"label\"].value_counts().sum()).apply(lambda x: str(int(x*100))+\"%\").to_dict()\n",
    "    true, false = question(data, column, condition)\n",
    "    true = build_tree(true)\n",
    "    false = build_tree(false)\n",
    "    return [true,false, column, condition]"
   ]
  },
  {
   "cell_type": "code",
   "execution_count": 181,
   "metadata": {},
   "outputs": [
    {
     "name": "stdout",
     "output_type": "stream",
     "text": [
      "[{'Lemon': '50%', 'Apple': '50%'}, {'Apple': '100%'}, 'color', 'Yellow']\n",
      "{'Grape': '100%'}\n",
      "diameter\n",
      "3\n"
     ]
    }
   ],
   "source": [
    "tree = build_tree(data)\n",
    "for i in tree:\n",
    "    print(i)"
   ]
  },
  {
   "cell_type": "code",
   "execution_count": 189,
   "metadata": {},
   "outputs": [],
   "source": [
    "def classify(row, node):\n",
    "    if len(node) == 4:\n",
    "        true, false, column, condition = node\n",
    "        if match(row,column,condition):\n",
    "            classify(row, true)\n",
    "        else:\n",
    "            classify(row, false)\n",
    "    else:\n",
    "        print(node)"
   ]
  },
  {
   "cell_type": "code",
   "execution_count": 194,
   "metadata": {},
   "outputs": [
    {
     "name": "stdout",
     "output_type": "stream",
     "text": [
      "{'Apple': '100%'}\n"
     ]
    }
   ],
   "source": [
    "classify(data.loc[0], tree)"
   ]
  },
  {
   "cell_type": "markdown",
   "metadata": {},
   "source": [
    "# II. Practice"
   ]
  },
  {
   "cell_type": "markdown",
   "metadata": {},
   "source": [
    "# III. Preference"
   ]
  },
  {
   "cell_type": "code",
   "execution_count": null,
   "metadata": {},
   "outputs": [],
   "source": []
  }
 ],
 "metadata": {
  "kernelspec": {
   "display_name": "Python 3",
   "language": "python",
   "name": "python3"
  },
  "language_info": {
   "codemirror_mode": {
    "name": "ipython",
    "version": 3
   },
   "file_extension": ".py",
   "mimetype": "text/x-python",
   "name": "python",
   "nbconvert_exporter": "python",
   "pygments_lexer": "ipython3",
   "version": "3.7.3"
  }
 },
 "nbformat": 4,
 "nbformat_minor": 2
}
