{
 "cells": [
  {
   "cell_type": "markdown",
   "metadata": {},
   "source": [
    "# I. Algorithm"
   ]
  },
  {
   "cell_type": "markdown",
   "metadata": {},
   "source": [
    "## 1. Math\n",
    "### Norms:\n",
    "$$||\\mathbf{x}||_p = (|x_1|^p + |x_2|^p + \\dots |x_n|^p)^{\\frac{1}{p}}$$\n",
    "\n",
    "Note:\n",
    "\n",
    "__Manhattan distance__ ($p = 1$):\n",
    "$$||\\mathbf{z} - \\mathbf{x_i}||_1 = ||\\mathbf{z}||_1 - ||\\mathbf{x_i}||_1(1)$$\n",
    "__Euclidean distance__ ($p = 2$):\n",
    "$$||\\mathbf{z} - \\mathbf{x_i}||_2^2 = (\\mathbf{z} - \\mathbf{x_i})^T(\\mathbf{z} - \\mathbf{x_i}) = ||\\mathbf{z}||_2^2 + ||\\mathbf{x_i}||_2^2 - 2||\\mathbf{x_i}||^T||\\mathbf{z}||(2)$$\n",
    "- The formula is squared to avoid calculate square root.  \n",
    "\n",
    "### Weight:\n",
    "- \"uniform\" : each neighbor is treated equally.\n",
    "- \"distance\" : nearer neigbor has more weight - the weight of each label is calculated by $\\frac{1}{d}$. "
   ]
  },
  {
   "cell_type": "markdown",
   "metadata": {},
   "source": [
    "## 2. Code:\n",
    "- Step 1: Use $(1)$ and $(2)$ to calculate distances.\n",
    "- Step 2: Label based on the weights of n nearest neigbors."
   ]
  },
  {
   "cell_type": "code",
   "execution_count": 85,
   "metadata": {},
   "outputs": [],
   "source": [
    "import numpy as np\n",
    "# Calculate distance\n",
    "def calculate_manhattan_distance(X_train, X_test):\n",
    "    return np.sum(X_train)\n",
    "def calculate_euclidean_distance(X_train, X_test):\n",
    "    return np.sum(X_train*X_train, 1).reshape(1, -1) + np.sum(X_test*X_test).reshape(-1, 1) - 2*X_test.dot(X_train.T)\n",
    "# Rewrite np.choose\n",
    "def choose(a,c):\n",
    "    return np.array([c[a[I]] for I in np.lib.index_tricks.ndindex(a.shape)])\n",
    "# Get n_nearest neighbors\n",
    "def get_labels(distance,y_train,n_neighbors):\n",
    "    distance = distance.argsort()[:, :n_neighbors]\n",
    "    label = choose(distance, y_train).reshape(-1,n_neighbors)\n",
    "    return label\n",
    "# Calculate weight\n",
    "def calculate_weight_uniform(label):\n",
    "    unique = np.unique(label)\n",
    "    result = np.zeros((label.shape[0],unique.shape[0]))\n",
    "    for i in range(unique.shape[0]):\n",
    "        zeros = np.zeros((labels.shape[0],labels.shape[1]))\n",
    "        zeros[labels == i] = 1\n",
    "        result[:,i] = zeros.sum(axis = 1)\n",
    "        y_pre = result.argmax(axis = 1)\n",
    "    return y_pre\n",
    "def calculate_weight_distance(label,distance):\n",
    "    unique = np.unique(label)\n",
    "    result = np.zeros((label.shape[0],unique.shape[0]))\n",
    "    for i in range(unique.shape[0]):\n",
    "        zeros = np.zeros((labels.shape[0],labels.shape[1]))\n",
    "        zeros[labels == i] = 1\n",
    "        distance = distance[:, :n_neighbors]\n",
    "        result[:,i] = (zeros/distance).sum(axis = 1)\n",
    "        y_pre = result.argmax(axis = 1)\n",
    "    return y_pre"
   ]
  },
  {
   "cell_type": "markdown",
   "metadata": {},
   "source": [
    "# II. Practice"
   ]
  },
  {
   "cell_type": "markdown",
   "metadata": {},
   "source": [
    "Apply K nearest neighbors on Iris data set\n",
    "![](iris.png)"
   ]
  },
  {
   "cell_type": "code",
   "execution_count": 83,
   "metadata": {},
   "outputs": [],
   "source": [
    "# Load data\n",
    "from sklearn import neighbors, datasets\n",
    "from sklearn.model_selection import train_test_split\n",
    "np.random.seed(7)\n",
    "iris = datasets.load_iris()\n",
    "X_train, X_test, y_train, y_test = train_test_split(iris.data, iris.target, test_size=130)"
   ]
  },
  {
   "cell_type": "code",
   "execution_count": 89,
   "metadata": {},
   "outputs": [
    {
     "name": "stdout",
     "output_type": "stream",
     "text": [
      "93.84615384615384\n"
     ]
    }
   ],
   "source": [
    "# Apply model\n",
    "n_neighbors = 3\n",
    "distances = calculate_euclidean_distance(X_train, X_test)\n",
    "labels = get_labels(distances,y_train,n_neighbors)\n",
    "y_pre = calculate_weight_distance(labels,distances)\n",
    "from sklearn.metrics import accuracy_score\n",
    "print(100*accuracy_score(y_test, y_pre))"
   ]
  },
  {
   "cell_type": "code",
   "execution_count": null,
   "metadata": {},
   "outputs": [],
   "source": []
  }
 ],
 "metadata": {
  "kernelspec": {
   "display_name": "Python 3",
   "language": "python",
   "name": "python3"
  },
  "language_info": {
   "codemirror_mode": {
    "name": "ipython",
    "version": 3
   },
   "file_extension": ".py",
   "mimetype": "text/x-python",
   "name": "python",
   "nbconvert_exporter": "python",
   "pygments_lexer": "ipython3",
   "version": "3.7.3"
  }
 },
 "nbformat": 4,
 "nbformat_minor": 2
}
